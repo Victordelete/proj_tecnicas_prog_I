{
 "cells": [
  {
   "attachments": {},
   "cell_type": "markdown",
   "metadata": {},
   "source": [
    "# U.S. FDIC Insured Banks and Financial Institutions\n",
    "\n",
    "Information on Bank Assets, Locations and Regulatory Status\n",
    "\n",
    "Dataset disponível em: https://www.kaggle.com/datasets/thedevastator/u-s-fdic-insured-banks-and-financial-institution"
   ]
  },
  {
   "attachments": {},
   "cell_type": "markdown",
   "metadata": {},
   "source": [
    "## About this file\n",
    "\n",
    "This dataset provides information on FDIC insured banks and financial institutions in the United States, including their addresses, asset sizes, classifications, and other relevant data points\n",
    "\n",
    "    ADDRESBR: Address of the bank. (String)\n",
    "    BRNUM: Bank number. (Integer)\n",
    "    BRSERTYP: Type of bank. (String)\n",
    "    CBSABR: Core-Based Statistical Area code. (Integer)\n",
    "    CBSANAMB: Core-Based Statistical Area name. (String)\n",
    "    CITYBR: City of the bank. (String)\n",
    "    CNTRYNAB: Country of the bank. (String)\n",
    "    CNTYNAMB: County of the bank. (String)\n",
    "    DEPSUMBR: Total deposits of the bank. (Integer)\n",
    "    GEOCODE_CE: Geocode of the bank. (Integer)\n",
    "    GEOCODE__1: Geocode of the bank. (Integer)\n",
    "    NAMEBR: Name of the bank. (String)\n",
    "    STALPBR: State abbreviation of the bank. (String)\n",
    "    STCNTYBR: State and county of the bank. (String)\n",
    "    STNAMEBR: State name of the bank. (String)\n",
    "    UNINUMBR: Unique identifier for the bank. (Integer)\n",
    "    ZIPBR: Zip code of the bank. (Integer)\n",
    "    CERT: Certificate number of the bank. (Integer)\n",
    "    ADDRESS: Address of the bank. (String)\n",
    "    ASSET: Asset size of the bank. (Integer)\n",
    "    BKCLASS: Bank classification. (String)\n",
    "    CITY: City of the bank. (String)\n",
    "    CITY: City of the bank. (String)\n",
    "    CNTRYNA: Country of the bank. (String)\n",
    "    DENOVO: Denovo status of the bank. (String)\n",
    "    DEPDOM: Domestic deposits of the bank. (Integer)\n",
    "    NAMEFULL: Full name of the bank. (String)\n",
    "    NAMEHCR: Holding company name of the bank. (String)\n",
    "    REGAGNT: Regulatory agency of the bank. (String)\n",
    "    REPDTE: Report date of the bank. (Date)\n",
    "    STALP: State abbreviation of the bank. (String)\n",
    "    STCNTY: State and county of the bank. (String)\n",
    "    STNAME: State name of the bank. (String)\n",
    "    ZIP: Zip code of the bank. (Integer)\n",
    "    BKMO: Bank month of the bank. (Integer)\n",
    "    LOC_NAME: Location name of the bank. (String)\n",
    "    STATUS: Status of the bank. (String)\n",
    "    SCORE: Risk score of the bank. (Integer)\n",
    "    x: Longitude of the bank. (Float)\n",
    "    GeocodeSou: Geocode source of the bank. (String)"
   ]
  },
  {
   "attachments": {},
   "cell_type": "markdown",
   "metadata": {},
   "source": [
    "# Analisando os dados do Dataset"
   ]
  },
  {
   "cell_type": "code",
   "execution_count": 1,
   "metadata": {},
   "outputs": [
    {
     "ename": "ModuleNotFoundError",
     "evalue": "No module named 'numpy'",
     "output_type": "error",
     "traceback": [
      "\u001b[1;31m---------------------------------------------------------------------------\u001b[0m",
      "\u001b[1;31mModuleNotFoundError\u001b[0m                       Traceback (most recent call last)",
      "Cell \u001b[1;32mIn[1], line 3\u001b[0m\n\u001b[0;32m      1\u001b[0m \u001b[39m# Importando blibliotecas\u001b[39;00m\n\u001b[1;32m----> 3\u001b[0m \u001b[39mimport\u001b[39;00m \u001b[39mnumpy\u001b[39;00m \u001b[39mas\u001b[39;00m \u001b[39mnp\u001b[39;00m\n\u001b[0;32m      4\u001b[0m \u001b[39mimport\u001b[39;00m \u001b[39mpandas\u001b[39;00m \u001b[39mas\u001b[39;00m \u001b[39mpd\u001b[39;00m\n\u001b[0;32m      5\u001b[0m \u001b[39mimport\u001b[39;00m \u001b[39mmatplotlib\u001b[39;00m\u001b[39m.\u001b[39;00m\u001b[39mpyplot\u001b[39;00m \u001b[39mas\u001b[39;00m \u001b[39mplt\u001b[39;00m\n",
      "\u001b[1;31mModuleNotFoundError\u001b[0m: No module named 'numpy'"
     ]
    }
   ],
   "source": [
    "# Importando blibliotecas\n",
    "\n",
    "import numpy as np\n",
    "import pandas as pd\n",
    "import matplotlib.pyplot as plt"
   ]
  },
  {
   "cell_type": "code",
   "execution_count": null,
   "metadata": {},
   "outputs": [
    {
     "data": {
      "text/html": [
       "<div>\n",
       "<style scoped>\n",
       "    .dataframe tbody tr th:only-of-type {\n",
       "        vertical-align: middle;\n",
       "    }\n",
       "\n",
       "    .dataframe tbody tr th {\n",
       "        vertical-align: top;\n",
       "    }\n",
       "\n",
       "    .dataframe thead th {\n",
       "        text-align: right;\n",
       "    }\n",
       "</style>\n",
       "<table border=\"1\" class=\"dataframe\">\n",
       "  <thead>\n",
       "    <tr style=\"text-align: right;\">\n",
       "      <th></th>\n",
       "      <th>index</th>\n",
       "      <th>FID</th>\n",
       "      <th>ADDRESBR</th>\n",
       "      <th>BRNUM</th>\n",
       "      <th>BRSERTYP</th>\n",
       "      <th>CBSABR</th>\n",
       "      <th>CBSANAMB</th>\n",
       "      <th>CITYBR</th>\n",
       "      <th>CNTRYNAB</th>\n",
       "      <th>CNTYNAMB</th>\n",
       "      <th>...</th>\n",
       "      <th>STCNTY</th>\n",
       "      <th>STNAME</th>\n",
       "      <th>ZIP</th>\n",
       "      <th>BKMO</th>\n",
       "      <th>LOC_NAME</th>\n",
       "      <th>STATUS</th>\n",
       "      <th>SCORE</th>\n",
       "      <th>x</th>\n",
       "      <th>y</th>\n",
       "      <th>GeocodeSou</th>\n",
       "    </tr>\n",
       "  </thead>\n",
       "  <tbody>\n",
       "    <tr>\n",
       "      <th>0</th>\n",
       "      <td>0</td>\n",
       "      <td>13001</td>\n",
       "      <td>950 Park Street</td>\n",
       "      <td>0</td>\n",
       "      <td>11</td>\n",
       "      <td>14460</td>\n",
       "      <td>Boston-Cambridge-Newton, MA-NH</td>\n",
       "      <td>Stoughton</td>\n",
       "      <td>United States</td>\n",
       "      <td>Norfolk</td>\n",
       "      <td>...</td>\n",
       "      <td>25021</td>\n",
       "      <td>MASSACHUSETTS</td>\n",
       "      <td>2072</td>\n",
       "      <td>1</td>\n",
       "      <td>PointAddress</td>\n",
       "      <td>M</td>\n",
       "      <td>100</td>\n",
       "      <td>-71.073321</td>\n",
       "      <td>42.111569</td>\n",
       "      <td>HSIP USA_ZIP4 Composite</td>\n",
       "    </tr>\n",
       "    <tr>\n",
       "      <th>1</th>\n",
       "      <td>1</td>\n",
       "      <td>13002</td>\n",
       "      <td>97 Lowell Road</td>\n",
       "      <td>360</td>\n",
       "      <td>11</td>\n",
       "      <td>14460</td>\n",
       "      <td>Boston-Cambridge-Newton, MA-NH</td>\n",
       "      <td>Concord</td>\n",
       "      <td>United States</td>\n",
       "      <td>Middlesex</td>\n",
       "      <td>...</td>\n",
       "      <td>44007</td>\n",
       "      <td>RHODE ISLAND</td>\n",
       "      <td>2903</td>\n",
       "      <td>0</td>\n",
       "      <td>PointAddress</td>\n",
       "      <td>M</td>\n",
       "      <td>100</td>\n",
       "      <td>-71.352231</td>\n",
       "      <td>42.463779</td>\n",
       "      <td>HSIP USA_ZIP4 Composite</td>\n",
       "    </tr>\n",
       "    <tr>\n",
       "      <th>2</th>\n",
       "      <td>2</td>\n",
       "      <td>13003</td>\n",
       "      <td>342 Main Street</td>\n",
       "      <td>0</td>\n",
       "      <td>11</td>\n",
       "      <td>14460</td>\n",
       "      <td>Boston-Cambridge-Newton, MA-NH</td>\n",
       "      <td>Wakefield</td>\n",
       "      <td>United States</td>\n",
       "      <td>Middlesex</td>\n",
       "      <td>...</td>\n",
       "      <td>25017</td>\n",
       "      <td>MASSACHUSETTS</td>\n",
       "      <td>1880</td>\n",
       "      <td>1</td>\n",
       "      <td>PointAddress</td>\n",
       "      <td>M</td>\n",
       "      <td>100</td>\n",
       "      <td>-71.071241</td>\n",
       "      <td>42.504579</td>\n",
       "      <td>HSIP USA_ZIP4 Composite</td>\n",
       "    </tr>\n",
       "    <tr>\n",
       "      <th>3</th>\n",
       "      <td>3</td>\n",
       "      <td>13004</td>\n",
       "      <td>121 Main Street</td>\n",
       "      <td>0</td>\n",
       "      <td>11</td>\n",
       "      <td>12700</td>\n",
       "      <td>Barnstable Town, MA</td>\n",
       "      <td>Yarmouth Port</td>\n",
       "      <td>United States</td>\n",
       "      <td>Barnstable</td>\n",
       "      <td>...</td>\n",
       "      <td>25001</td>\n",
       "      <td>MASSACHUSETTS</td>\n",
       "      <td>2675</td>\n",
       "      <td>1</td>\n",
       "      <td>StreetAddress</td>\n",
       "      <td>M</td>\n",
       "      <td>100</td>\n",
       "      <td>-70.252098</td>\n",
       "      <td>41.703698</td>\n",
       "      <td>HSIP USA_ZIP4 Composite</td>\n",
       "    </tr>\n",
       "    <tr>\n",
       "      <th>4</th>\n",
       "      <td>4</td>\n",
       "      <td>13005</td>\n",
       "      <td>205 Main St</td>\n",
       "      <td>0</td>\n",
       "      <td>11</td>\n",
       "      <td>0</td>\n",
       "      <td></td>\n",
       "      <td>Frost</td>\n",
       "      <td>United States</td>\n",
       "      <td>Faribault</td>\n",
       "      <td>...</td>\n",
       "      <td>27043</td>\n",
       "      <td>MINNESOTA</td>\n",
       "      <td>56033</td>\n",
       "      <td>1</td>\n",
       "      <td>StreetAddress</td>\n",
       "      <td>M</td>\n",
       "      <td>100</td>\n",
       "      <td>-93.923821</td>\n",
       "      <td>43.584759</td>\n",
       "      <td>HSIP USA_ZIP4 Composite</td>\n",
       "    </tr>\n",
       "  </tbody>\n",
       "</table>\n",
       "<p>5 rows × 43 columns</p>\n",
       "</div>"
      ],
      "text/plain": [
       "   index    FID         ADDRESBR  BRNUM  BRSERTYP  CBSABR  \\\n",
       "0      0  13001  950 Park Street      0        11   14460   \n",
       "1      1  13002   97 Lowell Road    360        11   14460   \n",
       "2      2  13003  342 Main Street      0        11   14460   \n",
       "3      3  13004  121 Main Street      0        11   12700   \n",
       "4      4  13005      205 Main St      0        11       0   \n",
       "\n",
       "                         CBSANAMB         CITYBR       CNTRYNAB    CNTYNAMB  \\\n",
       "0  Boston-Cambridge-Newton, MA-NH      Stoughton  United States     Norfolk   \n",
       "1  Boston-Cambridge-Newton, MA-NH        Concord  United States   Middlesex   \n",
       "2  Boston-Cambridge-Newton, MA-NH      Wakefield  United States   Middlesex   \n",
       "3             Barnstable Town, MA  Yarmouth Port  United States  Barnstable   \n",
       "4                                          Frost  United States   Faribault   \n",
       "\n",
       "   ...  STCNTY         STNAME    ZIP BKMO       LOC_NAME  STATUS SCORE  \\\n",
       "0  ...   25021  MASSACHUSETTS   2072    1   PointAddress       M   100   \n",
       "1  ...   44007   RHODE ISLAND   2903    0   PointAddress       M   100   \n",
       "2  ...   25017  MASSACHUSETTS   1880    1   PointAddress       M   100   \n",
       "3  ...   25001  MASSACHUSETTS   2675    1  StreetAddress       M   100   \n",
       "4  ...   27043      MINNESOTA  56033    1  StreetAddress       M   100   \n",
       "\n",
       "           x          y               GeocodeSou  \n",
       "0 -71.073321  42.111569  HSIP USA_ZIP4 Composite  \n",
       "1 -71.352231  42.463779  HSIP USA_ZIP4 Composite  \n",
       "2 -71.071241  42.504579  HSIP USA_ZIP4 Composite  \n",
       "3 -70.252098  41.703698  HSIP USA_ZIP4 Composite  \n",
       "4 -93.923821  43.584759  HSIP USA_ZIP4 Composite  \n",
       "\n",
       "[5 rows x 43 columns]"
      ]
     },
     "execution_count": 3,
     "metadata": {},
     "output_type": "execute_result"
    }
   ],
   "source": [
    "# Carregar os dados e apresentar cabeçalho do df (dataframe)\n",
    "df = pd.read_csv('dataset_kaggle.com\\Federal_Deposit_Insurance_Corporation_FDIC_Insured_Banks.csv', low_memory=False)\n",
    "\n",
    "df.head()"
   ]
  },
  {
   "cell_type": "code",
   "execution_count": null,
   "metadata": {},
   "outputs": [
    {
     "name": "stdout",
     "output_type": "stream",
     "text": [
      "['index', 'FID', 'ADDRESBR', 'BRNUM', 'BRSERTYP', 'CBSABR', 'CBSANAMB', 'CITYBR', 'CNTRYNAB', 'CNTYNAMB', 'DEPSUMBR', 'GEOCODE_CE', 'GEOCODE__1', 'NAMEBR', 'STALPBR', 'STCNTYBR', 'STNAMEBR', 'UNINUMBR', 'ZIPBR', 'CERT', 'ADDRESS', 'ASSET', 'BKCLASS', 'CITY', 'CNTRYNA', 'DENOVO', 'DEPDOM', 'NAMEFULL', 'NAMEHCR', 'REGAGNT', 'REPDTE', 'RSSDID', 'STALP', 'STCNTY', 'STNAME', 'ZIP', 'BKMO', 'LOC_NAME', 'STATUS', 'SCORE', 'x', 'y', 'GeocodeSou']\n"
     ]
    }
   ],
   "source": [
    "# Criando uma lista com o nome de todas as colunas\n",
    "columns_list = df.columns.tolist()\n",
    "\n",
    "print(columns_list)"
   ]
  },
  {
   "cell_type": "code",
   "execution_count": null,
   "metadata": {},
   "outputs": [
    {
     "name": "stdout",
     "output_type": "stream",
     "text": [
      "0\n"
     ]
    }
   ],
   "source": [
    "# Verificando a quantidade de dados nulos presentes em todas as colunas\n",
    "dados_null = df.isnull().sum().sum()\n",
    "\n",
    "print(dados_null)\n",
    "\n",
    "# Com base neste dado não há necessidade realizar a limpeza de dados nulos"
   ]
  },
  {
   "cell_type": "code",
   "execution_count": null,
   "metadata": {},
   "outputs": [],
   "source": [
    "# Criando uma cópia do dataframe\n",
    "df_copia = df.copy()"
   ]
  },
  {
   "attachments": {},
   "cell_type": "markdown",
   "metadata": {},
   "source": [
    "## Análise 1 - Concentração de mercado, analisando a participação de mercado de diferentes bancos"
   ]
  },
  {
   "cell_type": "code",
   "execution_count": null,
   "metadata": {},
   "outputs": [
    {
     "data": {
      "image/png": "[encoded data removed]",
      "text/plain": [
       "<Figure size 640x480 with 1 Axes>"
      ]
     },
     "metadata": {},
     "output_type": "display_data"
    }
   ],
   "source": [
    "# Agrupando os bancos pelo nome, utilizando a coluna NAMEFULL\n",
    "agrupando_bancos = df_copia.groupby(\"NAMEFULL\").size()\n",
    "\n",
    "# Calculando a participação de mercado de cada banco\n",
    "participacao_individual = agrupando_bancos / len(df_copia) * 100\n",
    "\n",
    "# Ordenando os resultados pelo maior valor de participação de mercado\n",
    "participacao_individual.sort_values(ascending=False, inplace=True)\n",
    "\n",
    "# A variável participacao_individual possui a lista completa de todos os bancos\n",
    "# utilizando len(participacao_individual) é possível verificar que há 5746 registros\n",
    "# Para facilitar a visualização trabalharemos com os 15 bancos com mais participação de mercado\n",
    "\n",
    "# Selecionando os 15 bancos com mais participação de mercado\n",
    "top_15 = participacao_individual.head(15)\n",
    "\n",
    "# Criando o gráfico de barras\n",
    "plt.bar(top_15.index, top_15.values)\n",
    "\n",
    "# Reduzir nome dos bancos até a primeira vírgula (facilitar visualização dos dados)\n",
    "nome_bancos = top_15.index.str.split(',').str[0]\n",
    "\n",
    "# Adicionando os rótulos do eixo x na vertical\n",
    "plt.xticks(range(len(top_15)), nome_bancos, rotation=90)\n",
    "\n",
    "# Adicionando rótulos ao eixo x e y\n",
    "plt.xlabel(\"Nome do Banco\")\n",
    "plt.ylabel(\"Participação de Mercado (%)\")\n",
    "\n",
    "# Adicionando título ao gráfico\n",
    "plt.title(\"Participação de Mercado dos 15 Bancos com Mais Participação\")\n",
    "\n",
    "# Mostrando o gráfico\n",
    "plt.show()\n"
   ]
  }
 ],
 "metadata": {
  "kernelspec": {
   "display_name": "Python 3",
   "language": "python",
   "name": "python3"
  },
  "language_info": {
   "codemirror_mode": {
    "name": "ipython",
    "version": 3
   },
   "file_extension": ".py",
   "mimetype": "text/x-python",
   "name": "python",
   "nbconvert_exporter": "python",
   "pygments_lexer": "ipython3",
   "version": "3.9.6 (tags/v3.9.6:db3ff76, Jun 28 2021, 15:26:21) [MSC v.1929 64 bit (AMD64)]"
  },
  "orig_nbformat": 4,
  "vscode": {
   "interpreter": {
    "hash": "5d0a57d5b68fdad216000040c9816578f8ed20457dd7023f1092dca2c1399509"
   }
  }
 },
 "nbformat": 4,
 "nbformat_minor": 2
}
