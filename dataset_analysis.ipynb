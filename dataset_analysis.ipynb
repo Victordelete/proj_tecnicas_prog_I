{
 "cells": [
  {
   "attachments": {},
   "cell_type": "markdown",
   "metadata": {},
   "source": [
    "# Analisando os dados do Dataset"
   ]
  },
  {
   "cell_type": "code",
   "execution_count": null,
   "metadata": {},
   "outputs": [
    {
     "ename": "",
     "evalue": "",
     "output_type": "error",
     "traceback": [
      "\u001b[1;31mRunning cells with 'c:\\ProgramData\\Anaconda3\\envs\\env_name\\python.exe' requires ipykernel package.\n",
      "\u001b[1;31mRun the following command to install 'ipykernel' into the Python environment. \n",
      "\u001b[1;31mCommand: 'c:/ProgramData/Anaconda3/envs/env_name/python.exe -m pip install ipykernel -U --force-reinstall'"
     ]
    }
   ],
   "source": [
    "# Importando blibliotecas\n",
    "\n",
    "import numpy as np\n",
    "import pandas as pd\n",
    "import matplotlib.pyplot as plt"
   ]
  },
  {
   "cell_type": "code",
   "execution_count": null,
   "metadata": {},
   "outputs": [
    {
     "ename": "",
     "evalue": "",
     "output_type": "error",
     "traceback": [
      "\u001b[1;31mRunning cells with 'c:\\ProgramData\\Anaconda3\\envs\\env_name\\python.exe' requires ipykernel package.\n",
      "\u001b[1;31mRun the following command to install 'ipykernel' into the Python environment. \n",
      "\u001b[1;31mCommand: 'c:/ProgramData/Anaconda3/envs/env_name/python.exe -m pip install ipykernel -U --force-reinstall'"
     ]
    }
   ],
   "source": [
    "# Carregar os dados e apresentar cabeçalho do df (dataframe)\n",
    "df = pd.read_csv('dataset_kaggle.com\\Federal_Deposit_Insurance_Corporation_FDIC_Insured_Banks.csv', low_memory=False)\n",
    "\n",
    "df.head()"
   ]
  },
  {
   "cell_type": "code",
   "execution_count": null,
   "metadata": {},
   "outputs": [
    {
     "ename": "",
     "evalue": "",
     "output_type": "error",
     "traceback": [
      "\u001b[1;31mRunning cells with 'c:\\ProgramData\\Anaconda3\\envs\\env_name\\python.exe' requires ipykernel package.\n",
      "\u001b[1;31mRun the following command to install 'ipykernel' into the Python environment. \n",
      "\u001b[1;31mCommand: 'c:/ProgramData/Anaconda3/envs/env_name/python.exe -m pip install ipykernel -U --force-reinstall'"
     ]
    }
   ],
   "source": [
    "# Criando uma lista com o nome de todas as colunas\n",
    "columns_list = df.columns.tolist()\n",
    "\n",
    "print(columns_list)"
   ]
  },
  {
   "cell_type": "code",
   "execution_count": null,
   "metadata": {},
   "outputs": [
    {
     "ename": "",
     "evalue": "",
     "output_type": "error",
     "traceback": [
      "\u001b[1;31mRunning cells with 'c:\\ProgramData\\Anaconda3\\envs\\env_name\\python.exe' requires ipykernel package.\n",
      "\u001b[1;31mRun the following command to install 'ipykernel' into the Python environment. \n",
      "\u001b[1;31mCommand: 'c:/ProgramData/Anaconda3/envs/env_name/python.exe -m pip install ipykernel -U --force-reinstall'"
     ]
    }
   ],
   "source": [
    "# Verificando a quantidade de dados nulos presentes em todas as colunas\n",
    "dados_null = df.isnull().sum().sum()\n",
    "\n",
    "print(dados_null)\n",
    "\n",
    "# Com base neste dado não há necessidade realizar a limpeza de dados nulos"
   ]
  },
  {
   "cell_type": "code",
   "execution_count": null,
   "metadata": {},
   "outputs": [
    {
     "ename": "",
     "evalue": "",
     "output_type": "error",
     "traceback": [
      "\u001b[1;31mRunning cells with 'c:\\ProgramData\\Anaconda3\\envs\\env_name\\python.exe' requires ipykernel package.\n",
      "\u001b[1;31mRun the following command to install 'ipykernel' into the Python environment. \n",
      "\u001b[1;31mCommand: 'c:/ProgramData/Anaconda3/envs/env_name/python.exe -m pip install ipykernel -U --force-reinstall'"
     ]
    }
   ],
   "source": [
    "# Criando uma cópia do dataframe\n",
    "df_copia = df.copy()"
   ]
  },
  {
   "attachments": {},
   "cell_type": "markdown",
   "metadata": {},
   "source": [
    "## Análise 1 - Concentração de mercado, analisando a participação de mercado de diferentes bancos"
   ]
  },
  {
   "cell_type": "code",
   "execution_count": null,
   "metadata": {},
   "outputs": [
    {
     "ename": "",
     "evalue": "",
     "output_type": "error",
     "traceback": [
      "\u001b[1;31mRunning cells with 'c:\\ProgramData\\Anaconda3\\envs\\env_name\\python.exe' requires ipykernel package.\n",
      "\u001b[1;31mRun the following command to install 'ipykernel' into the Python environment. \n",
      "\u001b[1;31mCommand: 'c:/ProgramData/Anaconda3/envs/env_name/python.exe -m pip install ipykernel -U --force-reinstall'"
     ]
    }
   ],
   "source": [
    "# Agrupando os bancos pelo nome, utilizando a coluna NAMEFULL\n",
    "agrupando_bancos = df_copia.groupby(\"NAMEFULL\").size()\n",
    "\n",
    "# Calculando a participação de mercado de cada banco\n",
    "participacao_individual = agrupando_bancos / len(df_copia) * 100\n",
    "\n",
    "# Ordenando os resultados pelo maior valor de participação de mercado\n",
    "participacao_individual.sort_values(ascending=False, inplace=True)\n",
    "\n",
    "# A variável participacao_individual possui a lista completa de todos os bancos\n",
    "# utilizando len(participacao_individual) é possível verificar que há 5746 registros\n",
    "# Para facilitar a visualização trabalharemos com os 15 bancos com mais participação de mercado\n",
    "\n",
    "# Selecionando os 15 bancos com mais participação de mercado\n",
    "top_15 = participacao_individual.head(15)\n",
    "\n",
    "# Criando o gráfico de barras\n",
    "plt.bar(top_15.index, top_15.values)\n",
    "\n",
    "# Reduzir nome dos bancos até a primeira vírgula (facilitar visualização dos dados)\n",
    "nome_bancos = top_15.index.str.split(',').str[0]\n",
    "\n",
    "# Adicionando os rótulos do eixo x na vertical\n",
    "plt.xticks(range(len(top_15)), nome_bancos, rotation=90)\n",
    "\n",
    "# Adicionando rótulos ao eixo x e y\n",
    "plt.xlabel(\"Nome do Banco\")\n",
    "plt.ylabel(\"Participação de Mercado (%)\")\n",
    "\n",
    "# Adicionando título ao gráfico\n",
    "plt.title(\"Participação de Mercado dos 15 Bancos com Mais Participação\")\n",
    "\n",
    "# Mostrando o gráfico\n",
    "plt.show()\n"
   ]
  }
 ],
 "metadata": {
  "kernelspec": {
   "display_name": "Python 3",
   "language": "python",
   "name": "python3"
  },
  "language_info": {
   "codemirror_mode": {
    "name": "ipython",
    "version": 3
   },
   "file_extension": ".py",
   "mimetype": "text/x-python",
   "name": "python",
   "nbconvert_exporter": "python",
   "pygments_lexer": "ipython3",
   "version": "3.7.0 (default, Jun 28 2018, 08:04:48) [MSC v.1912 64 bit (AMD64)]"
  },
  "orig_nbformat": 4,
  "vscode": {
   "interpreter": {
    "hash": "82ec13dae8b9c33361cda4ec9c217ca3fadab7ce6f176404dde39c5c5ceec126"
   }
  }
 },
 "nbformat": 4,
 "nbformat_minor": 2
}
